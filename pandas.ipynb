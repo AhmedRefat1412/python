{
 "cells": [
  {
   "cell_type": "code",
   "execution_count": null,
   "id": "083eff02",
   "metadata": {},
   "outputs": [
    {
     "name": "stdout",
     "output_type": "stream",
     "text": [
      "hello\n"
     ]
    }
   ],
   "source": [
    "class review "
   ]
  },
  {
   "cell_type": "code",
   "execution_count": 2,
   "id": "0365a5d8",
   "metadata": {},
   "outputs": [
    {
     "name": "stdout",
     "output_type": "stream",
     "text": [
      "my skin is white and my eye color is blue  and i have black hair and my tall is 1.75 cm \n"
     ]
    }
   ],
   "source": [
    "class farher():\n",
    "    def __init__(self,skin,hair_color,eye_color,tall):\n",
    "        self.skin=skin\n",
    "        self.hair_color=hair_color\n",
    "        self.eye_color=eye_color\n",
    "        self.tall=tall\n",
    "        \n",
    "        pass\n",
    "    def inhertinace (self):\n",
    "        print(f\"my skin is {self.skin} and my eye color is {self.eye_color} and i have {self.hair_color} hair and my tall is {self.tall}\")\n",
    "\n",
    "class son(farher):\n",
    "    pass \n",
    "\n",
    "\n",
    "son1=son(\"white\",\"black\",\"blue \",\"1.75 cm \")\n",
    "\n",
    "son1.inhertinace()\n"
   ]
  },
  {
   "cell_type": "markdown",
   "id": "8b5c6579",
   "metadata": {},
   "source": [
    "numpy"
   ]
  },
  {
   "cell_type": "code",
   "execution_count": 5,
   "id": "6b90b475",
   "metadata": {},
   "outputs": [
    {
     "name": "stdout",
     "output_type": "stream",
     "text": [
      "1.26.2\n"
     ]
    }
   ],
   "source": [
    "import numpy as np\n",
    "print(np.__version__)"
   ]
  },
  {
   "cell_type": "markdown",
   "id": "60614459",
   "metadata": {},
   "source": [
    "how to create new arrays"
   ]
  },
  {
   "cell_type": "code",
   "execution_count": 14,
   "id": "ee65187d",
   "metadata": {},
   "outputs": [
    {
     "name": "stdout",
     "output_type": "stream",
     "text": [
      "3\n",
      "3\n",
      "9\n",
      "9\n"
     ]
    }
   ],
   "source": [
    "my_array=np.array([1,2,2],ndmin=3)\n",
    "# تقدر تكتب تعدد ال dimantions او تعملهم ب ايدك \n",
    "a = np.array([[[1,3,9],[5,6,9]],[[4,5,9],[8,5,3]]])\n",
    "\n",
    "print(my_array.ndim)\n",
    "print(a.ndim)\n",
    "\n",
    "# تقدر ت اكسز علي الي جوا الاري  بكذا بطريقه  والاثنين هيدوا نفس المعني \n",
    "\n",
    "print(a[0][0][2])\n",
    "print(a[0,0,2])"
   ]
  },
  {
   "cell_type": "code",
   "execution_count": 2,
   "id": "8ba67394",
   "metadata": {},
   "outputs": [
    {
     "name": "stdout",
     "output_type": "stream",
     "text": [
      "how are you man \n"
     ]
    }
   ],
   "source": [
    "print(\"how are you man \")"
   ]
  }
 ],
 "metadata": {
  "kernelspec": {
   "display_name": "base",
   "language": "python",
   "name": "python3"
  },
  "language_info": {
   "codemirror_mode": {
    "name": "ipython",
    "version": 3
   },
   "file_extension": ".py",
   "mimetype": "text/x-python",
   "name": "python",
   "nbconvert_exporter": "python",
   "pygments_lexer": "ipython3",
   "version": "3.11.5"
  }
 },
 "nbformat": 4,
 "nbformat_minor": 5
}
