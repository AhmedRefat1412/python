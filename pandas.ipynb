{
 "cells": [
  {
   "cell_type": "code",
   "execution_count": 1,
   "id": "11f1d243",
   "metadata": {},
   "outputs": [],
   "source": [
    "# pandas\n",
    "import pandas as pd \n",
    "import numpy as np "
   ]
  },
  {
   "cell_type": "code",
   "execution_count": null,
   "id": "5e674763",
   "metadata": {},
   "outputs": [
    {
     "name": "stdout",
     "output_type": "stream",
     "text": [
      "one        1\n",
      "two        2\n",
      "three      3\n",
      "four       4\n",
      "five       5\n",
      "six        6\n",
      "seven      7\n",
      "eihgt      8\n",
      "nighan     9\n",
      "ten       10\n",
      "dtype: int64\n",
      "6\n",
      "one      1\n",
      "two      2\n",
      "three    3\n",
      "four     4\n",
      "five     5\n",
      "dtype: int64\n"
     ]
    },
    {
     "name": "stderr",
     "output_type": "stream",
     "text": [
      "C:\\Users\\ahmed\\AppData\\Local\\Temp\\ipykernel_25180\\4052139068.py:4: FutureWarning: Series.__getitem__ treating keys as positions is deprecated. In a future version, integer keys will always be treated as labels (consistent with DataFrame behavior). To access a value by position, use `ser.iloc[pos]`\n",
      "  print(series1[5])# value is 6 only\n"
     ]
    }
   ],
   "source": [
    "# create series \n",
    "series1=pd.Series([1,2,3,4,5,6,7,8,9,10],index=['one','two','three','four','five','six','seven','eihgt','nighan','ten'])\n",
    "print(series1['one':'ten']) # when you write indecies string the last index will come \n",
    "# print(series1[5])# value is 6 only\n",
    "# print(series1[5:7])# indcis\n",
    "\n",
    "\n",
    "#dictionary in series\n",
    "dec1={\n",
    "    \"one\":1,\n",
    "    \"two\":2,\n",
    "    \"three\":3,\n",
    "    \"four\":4,\n",
    "    \"five\":5}\n",
    "series2=pd.Series(dec1)\n",
    "print(series2)"
   ]
  },
  {
   "cell_type": "code",
   "execution_count": 38,
   "id": "ee97ef8b",
   "metadata": {},
   "outputs": [
    {
     "name": "stdout",
     "output_type": "stream",
     "text": [
      "         age  tall    hair gender\n",
      "ahmed     24  1.75     red   male\n",
      "ali       20  1.68   black   male\n",
      "mohamed   25  1.66   balck   male\n",
      "samy      32  1.88   blond   male\n",
      "amr       19  1.56  whiate   male\n",
      "         age\n",
      "ahmed     24\n",
      "ali       20\n",
      "mohamed   25\n",
      "samy      32\n",
      "amr       19\n",
      "         age  tall    hair gender\n",
      "ahmed     24  1.75     red   male\n",
      "ali       20  1.68   black   male\n",
      "mohamed   25  1.66   balck   male\n",
      "samy      32  1.88   blond   male\n",
      "amr       19  1.56  whiate   male\n",
      "   a  b\n",
      "0  0  0\n",
      "1  1  2\n",
      "2  2  4\n"
     ]
    }
   ],
   "source": [
    "#create Dataframes #  مكون من series\n",
    "dic_age={\n",
    "\"ahmed\":24,\n",
    "\"ali\":20,\n",
    "\"mohamed\":25,\n",
    "\"samy\":32,\n",
    "\"amr\":19}\n",
    "series_age=pd.Series(dic_age)\n",
    "\n",
    "dic_tall={\n",
    "\"ahmed\":1.75,\n",
    "\"ali\":1.68,\n",
    "\"mohamed\":1.66,\n",
    "\"samy\":1.88,\n",
    "\"amr\":1.56}\n",
    "series_tall=pd.Series(dic_tall)\n",
    "\n",
    "series_hair={\n",
    "\"ahmed\":\"red\",\n",
    "\"ali\":\"black\",\n",
    "\"mohamed\":\"balck\",\n",
    "\"samy\":\"blond\",\n",
    "\"amr\":\"whiate\"}\n",
    "series_hair=pd.Series(series_hair)\n",
    "\n",
    "#we will create dataframe from three  series and one list \n",
    "dataframe1=pd.DataFrame({\n",
    "    'age':series_age,\n",
    "    'tall':series_tall,\n",
    "    'hair':series_hair,\n",
    "    \"gender\":[\"male\",\"male\",\"male\",\"male\",\"male\" ] \n",
    "    })\n",
    "\n",
    "print(dataframe1)\n",
    "# print(dataframe1.columns)#بيجيبلي اسم الاعمده\n",
    "# print(dataframe1.index)\n",
    "# print(dataframe1[\"age\"][\"ahmed\"])\n",
    "# print(dataframe1[\"age\"]) \n",
    "\n",
    "dataframe2=pd.DataFrame({\"age\":series_age})\n",
    "print(dataframe2)\n",
    "print(dataframe1)\n",
    "\n",
    "# create dictionary from loop in list and after that put the dictionary in dataframe\n",
    "data=[{\"a\":i,\"b\":2*i} \n",
    "      for i in range(3)]\n",
    "data_dataframe=pd.DataFrame(data)\n",
    "print(data_dataframe)\n"
   ]
  },
  {
   "cell_type": "code",
   "execution_count": null,
   "id": "eabd4877",
   "metadata": {},
   "outputs": [
    {
     "name": "stdout",
     "output_type": "stream",
     "text": [
      "     a  b    C\n",
      "0  1.0  2  NaN\n",
      "1  NaN  3  4.0\n"
     ]
    }
   ],
   "source": [
    "# when some keys are missing  \n",
    "import pandas  as pd\n",
    "\n",
    "missing_dataframe=pd.DataFrame([{'a':1,'b':2},{'b':3,\"C\":4}])\n",
    "print(missing_dataframe)"
   ]
  }
 ],
 "metadata": {
  "kernelspec": {
   "display_name": "base",
   "language": "python",
   "name": "python3"
  },
  "language_info": {
   "codemirror_mode": {
    "name": "ipython",
    "version": 3
   },
   "file_extension": ".py",
   "mimetype": "text/x-python",
   "name": "python",
   "nbconvert_exporter": "python",
   "pygments_lexer": "ipython3",
   "version": "3.11.5"
  }
 },
 "nbformat": 4,
 "nbformat_minor": 5
}
