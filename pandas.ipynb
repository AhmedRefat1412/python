{
 "cells": [
  {
   "cell_type": "code",
   "execution_count": null,
   "id": "11f1d243",
   "metadata": {},
   "outputs": [],
   "source": [
    "# pandas"
   ]
  }
 ],
 "metadata": {
  "language_info": {
   "name": "python"
  }
 },
 "nbformat": 4,
 "nbformat_minor": 5
}
