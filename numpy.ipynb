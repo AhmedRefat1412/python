{
 "cells": [
  {
   "cell_type": "code",
   "execution_count": null,
   "id": "083eff02",
   "metadata": {},
   "outputs": [
    {
     "name": "stdout",
     "output_type": "stream",
     "text": [
      "hello\n"
     ]
    }
   ],
   "source": [
    "class review "
   ]
  },
  {
   "cell_type": "code",
   "execution_count": 2,
   "id": "0365a5d8",
   "metadata": {},
   "outputs": [
    {
     "name": "stdout",
     "output_type": "stream",
     "text": [
      "my skin is white and my eye color is blue  and i have black hair and my tall is 1.75 cm \n"
     ]
    }
   ],
   "source": [
    "class farher():\n",
    "    def __init__(self,skin,hair_color,eye_color,tall):\n",
    "        self.skin=skin\n",
    "        self.hair_color=hair_color\n",
    "        self.eye_color=eye_color\n",
    "        self.tall=tall\n",
    "        \n",
    "        pass\n",
    "    def inhertinace (self):\n",
    "        print(f\"my skin is {self.skin} and my eye color is {self.eye_color} and i have {self.hair_color} hair and my tall is {self.tall}\")\n",
    "\n",
    "class son(farher):\n",
    "    pass \n",
    "\n",
    "\n",
    "son1=son(\"white\",\"black\",\"blue \",\"1.75 cm \")\n",
    "\n",
    "son1.inhertinace()\n"
   ]
  },
  {
   "cell_type": "markdown",
   "id": "8b5c6579",
   "metadata": {},
   "source": [
    "numpy"
   ]
  },
  {
   "cell_type": "code",
   "execution_count": 2,
   "id": "6b90b475",
   "metadata": {},
   "outputs": [
    {
     "name": "stdout",
     "output_type": "stream",
     "text": [
      "1.26.2\n"
     ]
    }
   ],
   "source": [
    "import numpy as np\n",
    "print(np.__version__)"
   ]
  },
  {
   "cell_type": "markdown",
   "id": "60614459",
   "metadata": {},
   "source": [
    "how to create new arrays"
   ]
  },
  {
   "cell_type": "code",
   "execution_count": 2,
   "id": "ee65187d",
   "metadata": {},
   "outputs": [
    {
     "name": "stdout",
     "output_type": "stream",
     "text": [
      "3\n",
      "3\n",
      "9\n",
      "9\n"
     ]
    }
   ],
   "source": [
    "my_array=np.array([1,2,2],ndmin=3)\n",
    "# تقدر تكتب تعدد ال dimantions او تعملهم ب ايدك \n",
    "a = np.array([[[1,3,9],[5,6,9]],[[4,5,9],[8,5,3]]])\n",
    "\n",
    "print(my_array.ndim)\n",
    "print(a.ndim)\n",
    "\n",
    "# تقدر ت اكسز علي الي جوا الاري  بكذا بطريقه  والاثنين هيدوا نفس المعني \n",
    "\n",
    "print(a[0][0][2])\n",
    "print(a[0,0,2])"
   ]
  },
  {
   "cell_type": "code",
   "execution_count": 8,
   "id": "8ba67394",
   "metadata": {},
   "outputs": [
    {
     "name": "stdout",
     "output_type": "stream",
     "text": [
      "<class 'int'>\n",
      "<class 'numpy.str_'>\n",
      "140705812878120\n",
      "1561367277968\n",
      "1561245213648\n",
      "1561245213648\n"
     ]
    }
   ],
   "source": [
    "# compare data location and the type of data \n",
    "\n",
    "list_one=[1,2,\"ahmed\",10.5] # ال list بتقبل اي نوع ولوجيت تطلب اي اندكس فيها هيقولك علي نوعه \n",
    "array_one=np.array([1,2,\"ahmed \",10.5]) # هنا هيتعامل معاهم كلهم انهم استرينج \n",
    " \n",
    "print(type(list_one[0]))\n",
    "print(type(array_one[0]))\n",
    "\n",
    "# لوجيت تبص علي المكان المتخزن فيه الاتنين هتلاقيهم مختلفين \n",
    "print(id(list_one[0]))\n",
    "print(id(list_one[-1]))\n",
    "# لوجيت تبص علي المكان المتخزن فيه الاتنين هتلاقيهم زي بعض عشان دي (array) \n",
    "print(id(array_one[0]))\n",
    "print(id(array_one[-1]))\n"
   ]
  },
  {
   "cell_type": "code",
   "execution_count": null,
   "id": "945b3f72",
   "metadata": {},
   "outputs": [
    {
     "name": "stdout",
     "output_type": "stream",
     "text": [
      "[]\n"
     ]
    }
   ],
   "source": [
    "#slicing \n",
    "a=np.array([[\"a\",\"q\",\"t\"],[\"a\",\"x\",\"w\"],[\"a\",\"e\",\"r\"]])\n",
    "#print(a[:2:5])\n",
    "print(a[0:1])# الايندكس الاخير مش بيجيبه "
   ]
  },
  {
   "cell_type": "code",
   "execution_count": null,
   "id": "e3235281",
   "metadata": {},
   "outputs": [
    {
     "name": "stdout",
     "output_type": "stream",
     "text": [
      "int32\n",
      "<U5\n",
      "float64\n",
      "[1. 2. 3.]\n"
     ]
    }
   ],
   "source": [
    "# data types and control of array\n",
    "my_array1=np.array([1,2,3])\n",
    "my_array2=np.array([\"ahmed\",\"x\",\"f\"])\n",
    "my_array3=np.array([1.5,2.69,3.6])\n",
    "\n",
    "print(my_array1.dtype) #type of data in array \n",
    "print(my_array2.dtype)\n",
    "print(my_array3.dtype)\n",
    "\n",
    "\n",
    "# create array with spcific data type\n",
    "my_array4=np.array([1,2,3] , dtype=float) #float ,\"float\",'f'\n",
    "my_array5=np.array([\"ahmed\",\"x\",\"f\"]) # you cant convert srting to any thing else\n",
    "my_array6=np.array([1.5,2.69,3.6]) \n",
    "\n",
    "\n",
    "\n",
    "# change data type of existing array\n",
    "my_array7=np.array([1,2,3])\n",
    "my_array7=my_array7.astype(float) # you can convert it to string or bool and to many anothers \n",
    "print(my_array7)\n",
    "\n",
    "\n"
   ]
  },
  {
   "cell_type": "code",
   "execution_count": null,
   "id": "45311846",
   "metadata": {},
   "outputs": [
    {
     "name": "stdout",
     "output_type": "stream",
     "text": [
      "list time is : 8.419351816177368\n",
      "array time is : 0.039009809494018555\n",
      "3\n",
      "1\n"
     ]
    }
   ],
   "source": [
    "# performane and memory use \n",
    "\n",
    "import numpy as np\n",
    "import time\n",
    "import sys # عشان نحسب حجم العناصر بلبايت \n",
    "\n",
    "elements=15001500\n",
    "\n",
    "# a = (\"John\", \"Charles\", \"Mike\")\n",
    "# b = (\"Jenny\", \"Christy\", \"Monica\", \"Vicky\")\n",
    "array1=np.arange(elements)\n",
    "array2 =np.arange(elements)\n",
    "list1=range(elements)\n",
    "liss2=range(elements)\n",
    "\n",
    "list_start=time.time()\n",
    "list_result=[(n1 +n2) for n1,n2 in zip(array1,array2)] # هياخد 7 ثواني في العمليه دي \n",
    "print(f\"list time is : {time.time()-list_start}\")\n",
    "\n",
    "array_start=time.time()\n",
    "array_result=array1+array2 # هياخد جزء من الثانيه \n",
    "print(f\"array time is : {time.time()-array_start}\")\n",
    "\n",
    "\n",
    "\n",
    "# ravel بتحول الاري الي ون ديمشن \n",
    "a = np.array([[[1,3,9],[5,6,9]],[[4,5,9],[8,5,3]]])\n",
    "print(a.ndim)\n",
    "z=a.ravel()\n",
    "print(z.ndim)"
   ]
  },
  {
   "cell_type": "code",
   "execution_count": 15,
   "id": "1dd7affa",
   "metadata": {},
   "outputs": [
    {
     "name": "stdout",
     "output_type": "stream",
     "text": [
      "3\n",
      "(5, 2, 2)\n",
      "[[[ 1  2]\n",
      "  [ 3  4]]\n",
      "\n",
      " [[ 5  6]\n",
      "  [ 7  8]]\n",
      "\n",
      " [[ 9 10]\n",
      "  [11 12]]\n",
      "\n",
      " [[13 14]\n",
      "  [15 16]]\n",
      "\n",
      " [[17 18]\n",
      "  [19 20]]]\n"
     ]
    }
   ],
   "source": [
    " # array shape and reshape\n",
    "my_array1=np.array([1,2,3,4])\n",
    "#print(my_array1.shape) # بيجيب عدد ال elements الي جوا االاري\n",
    "\n",
    "array_test=np.array([1,2,3,4,5,6,7,8,9,10,11,12,13,14,15,16,17,18,19,20])\n",
    "\n",
    "reshape_array_test=array_test.reshape(5,2,2 ) # انت بتتحكم هنا في شكل وتفصيل الاري\n",
    "print(reshape_array_test.ndim)\n",
    "print(reshape_array_test.shape)\n",
    "print(reshape_array_test)\n",
    "\n"
   ]
  }
 ],
 "metadata": {
  "kernelspec": {
   "display_name": "base",
   "language": "python",
   "name": "python3"
  },
  "language_info": {
   "codemirror_mode": {
    "name": "ipython",
    "version": 3
   },
   "file_extension": ".py",
   "mimetype": "text/x-python",
   "name": "python",
   "nbconvert_exporter": "python",
   "pygments_lexer": "ipython3",
   "version": "3.11.5"
  }
 },
 "nbformat": 4,
 "nbformat_minor": 5
}
