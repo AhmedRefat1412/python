{
 "cells": [
  {
   "cell_type": "code",
   "execution_count": null,
   "id": "083eff02",
   "metadata": {},
   "outputs": [
    {
     "name": "stdout",
     "output_type": "stream",
     "text": [
      "hello\n"
     ]
    }
   ],
   "source": [
    "class review "
   ]
  },
  {
   "cell_type": "code",
   "execution_count": 2,
   "id": "0365a5d8",
   "metadata": {},
   "outputs": [
    {
     "name": "stdout",
     "output_type": "stream",
     "text": [
      "my skin is white and my eye color is blue  and i have black hair and my tall is 1.75 cm \n"
     ]
    }
   ],
   "source": [
    "class farher():\n",
    "    def __init__(self,skin,hair_color,eye_color,tall):\n",
    "        self.skin=skin\n",
    "        self.hair_color=hair_color\n",
    "        self.eye_color=eye_color\n",
    "        self.tall=tall\n",
    "        \n",
    "        pass\n",
    "    def inhertinace (self):\n",
    "        print(f\"my skin is {self.skin} and my eye color is {self.eye_color} and i have {self.hair_color} hair and my tall is {self.tall}\")\n",
    "\n",
    "class son(farher):\n",
    "    pass \n",
    "\n",
    "\n",
    "son1=son(\"white\",\"black\",\"blue \",\"1.75 cm \")\n",
    "\n",
    "son1.inhertinace()\n"
   ]
  },
  {
   "cell_type": "markdown",
   "id": "8b5c6579",
   "metadata": {},
   "source": [
    "numpy"
   ]
  },
  {
   "cell_type": "code",
   "execution_count": 1,
   "id": "6b90b475",
   "metadata": {},
   "outputs": [
    {
     "name": "stdout",
     "output_type": "stream",
     "text": [
      "1.26.2\n"
     ]
    }
   ],
   "source": [
    "import numpy as np\n",
    "print(np.__version__)"
   ]
  },
  {
   "cell_type": "markdown",
   "id": "60614459",
   "metadata": {},
   "source": [
    "how to create new arrays"
   ]
  },
  {
   "cell_type": "code",
   "execution_count": 2,
   "id": "ee65187d",
   "metadata": {},
   "outputs": [
    {
     "name": "stdout",
     "output_type": "stream",
     "text": [
      "3\n",
      "3\n",
      "9\n",
      "9\n"
     ]
    }
   ],
   "source": [
    "my_array=np.array([1,2,2],ndmin=3)\n",
    "# تقدر تكتب تعدد ال dimantions او تعملهم ب ايدك \n",
    "a = np.array([[[1,3,9],[5,6,9]],[[4,5,9],[8,5,3]]])\n",
    "\n",
    "print(my_array.ndim)\n",
    "print(a.ndim)\n",
    "\n",
    "# تقدر ت اكسز علي الي جوا الاري  بكذا بطريقه  والاثنين هيدوا نفس المعني \n",
    "\n",
    "print(a[0][0][2])\n",
    "print(a[0,0,2])"
   ]
  },
  {
   "cell_type": "code",
   "execution_count": 8,
   "id": "8ba67394",
   "metadata": {},
   "outputs": [
    {
     "name": "stdout",
     "output_type": "stream",
     "text": [
      "<class 'int'>\n",
      "<class 'numpy.str_'>\n",
      "140705812878120\n",
      "1561367277968\n",
      "1561245213648\n",
      "1561245213648\n"
     ]
    }
   ],
   "source": [
    "# compare data location and the type of data \n",
    "\n",
    "list_one=[1,2,\"ahmed\",10.5] # ال list بتقبل اي نوع ولوجيت تطلب اي اندكس فيها هيقولك علي نوعه \n",
    "array_one=np.array([1,2,\"ahmed \",10.5]) # هنا هيتعامل معاهم كلهم انهم استرينج \n",
    " \n",
    "print(type(list_one[0]))\n",
    "print(type(array_one[0]))\n",
    "\n",
    "# لوجيت تبص علي المكان المتخزن فيه الاتنين هتلاقيهم مختلفين \n",
    "print(id(list_one[0]))\n",
    "print(id(list_one[-1]))\n",
    "# لوجيت تبص علي المكان المتخزن فيه الاتنين هتلاقيهم زي بعض عشان دي (array) \n",
    "print(id(array_one[0]))\n",
    "print(id(array_one[-1]))\n"
   ]
  },
  {
   "cell_type": "code",
   "execution_count": null,
   "id": "945b3f72",
   "metadata": {},
   "outputs": [
    {
     "name": "stdout",
     "output_type": "stream",
     "text": [
      "[]\n"
     ]
    }
   ],
   "source": [
    "#slicing \n",
    "a=np.array([[\"a\",\"q\",\"t\"],[\"a\",\"x\",\"w\"],[\"a\",\"e\",\"r\"]])\n",
    "#print(a[:2:5])\n",
    "print(a[0:1])# الايندكس الاخير مش بيجيبه "
   ]
  },
  {
   "cell_type": "code",
   "execution_count": null,
   "id": "e3235281",
   "metadata": {},
   "outputs": [
    {
     "name": "stdout",
     "output_type": "stream",
     "text": [
      "int32\n",
      "<U5\n",
      "float64\n",
      "[ True  True  True]\n"
     ]
    }
   ],
   "source": [
    "# data types and control of array\n",
    "my_array1=np.array([1,2,3])\n",
    "my_array2=np.array([\"ahmed\",\"x\",\"f\"])\n",
    "my_array3=np.array([1.5,2.69,3.6])\n",
    "\n",
    "print(my_array1.dtype) #type of data in array \n",
    "print(my_array2.dtype)\n",
    "print(my_array3.dtype)\n",
    "\n",
    "\n",
    "# create array with spcific data type\n",
    "my_array4=np.array([1,2,3] , dtype=float) #float ,\"float\",'f'\n",
    "my_array5=np.array([\"ahmed\",\"x\",\"f\"]) # you cant convert srting to any thing else\n",
    "my_array6=np.array([1.5,2.69,3.6]) \n",
    "\n",
    "\n",
    "\n",
    "# change data type of existing array\n",
    "my_array7=np.array([1,2,3])\n",
    "my_array7=my_array7.astype(float) # you can convert it to string or bool and to many anothers \n",
    "print(my_array7)\n",
    "\n",
    "# test capacity\n",
    "\n"
   ]
  }
 ],
 "metadata": {
  "kernelspec": {
   "display_name": "base",
   "language": "python",
   "name": "python3"
  },
  "language_info": {
   "codemirror_mode": {
    "name": "ipython",
    "version": 3
   },
   "file_extension": ".py",
   "mimetype": "text/x-python",
   "name": "python",
   "nbconvert_exporter": "python",
   "pygments_lexer": "ipython3",
   "version": "3.11.5"
  }
 },
 "nbformat": 4,
 "nbformat_minor": 5
}
